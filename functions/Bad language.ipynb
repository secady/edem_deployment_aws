{
 "cells": [
  {
   "attachments": {},
   "cell_type": "markdown",
   "metadata": {},
   "source": [
    "## BAD LANGUAGE"
   ]
  },
  {
   "cell_type": "code",
   "execution_count": 2,
   "metadata": {},
   "outputs": [
    {
     "name": "stdout",
     "output_type": "stream",
     "text": [
      "Filtro español: Hello, f4ck you, eres un ***i*****s y un *******, mañana nos vemos\n",
      "Filtro español e inglés: Hello, **** you, eres un ***i*****s y un *******, mañana nos vemos\n"
     ]
    }
   ],
   "source": [
    "#First the text passes through the bad language checker of Spanish\n",
    "from spanlp.palabrota import Palabrota\n",
    "\n",
    "texto= 'Hello, f4ck you, eres un gilipollas y un imbecil, mañana nos vemos' #Here we create the variable that contains the text to filter\n",
    "palabrota = Palabrota(censor_char=\"*\",include=['subnormal','tus muertos','maricón','']) #We add some bad words that are not detected by the library\n",
    "texto = palabrota.censor(texto)\n",
    "print(f'Filtro español: {texto}')\n",
    "\n",
    "#Then the text already checked in Spanish goes through the English filter:\n",
    "from better_profanity import profanity\n",
    "\n",
    "if __name__ == \"__main__\":\n",
    "    profanity.load_censor_words()\n",
    "    custom_badwords = ['idiot',] #We add some bad words that are not detected by the library\n",
    "    profanity.add_censor_words(custom_badwords)\n",
    "    texto = profanity.censor(texto)\n",
    "    print(f'Filtro español e inglés: {texto}')\n"
   ]
  },
  {
   "attachments": {},
   "cell_type": "markdown",
   "metadata": {},
   "source": [
    "### Class to filter bad language"
   ]
  },
  {
   "cell_type": "code",
   "execution_count": 2,
   "metadata": {},
   "outputs": [
    {
     "name": "stdout",
     "output_type": "stream",
     "text": [
      "Filtered text: Hello, **** you, eres un ***i*****s y un *******, mañana nos vemos\n"
     ]
    }
   ],
   "source": [
    "from spanlp.palabrota import Palabrota\n",
    "from better_profanity import profanity\n",
    "\n",
    "class TextFilter:\n",
    "    def __init__(self):\n",
    "        self.palabrota = Palabrota(censor_char=\"*\", include=['subnormal', 'tus muertos', 'maricón', ''])\n",
    "        profanity.load_censor_words()\n",
    "        self.custom_badwords = ['idiot',]\n",
    "\n",
    "    def filter_text(self, texto):\n",
    "        # Spanish filter\n",
    "        texto = self.palabrota.censor(texto)\n",
    "        # English filter\n",
    "        texto = profanity.censor(texto)\n",
    "        return texto\n",
    "\n",
    "# Testing\n",
    "texto = 'Hello, f4ck you, eres un gilipollas y un imbecil, mañana nos vemos'\n",
    "text_filter = TextFilter()\n",
    "texto_filtrado = text_filter.filter_text(texto)\n",
    "print(f'Filtered text: {texto_filtrado}')\n"
   ]
  }
 ],
 "metadata": {
  "kernelspec": {
   "display_name": "desafio_env",
   "language": "python",
   "name": "python3"
  },
  "language_info": {
   "codemirror_mode": {
    "name": "ipython",
    "version": 3
   },
   "file_extension": ".py",
   "mimetype": "text/x-python",
   "name": "python",
   "nbconvert_exporter": "python",
   "pygments_lexer": "ipython3",
   "version": "3.9.16"
  },
  "orig_nbformat": 4
 },
 "nbformat": 4,
 "nbformat_minor": 2
}
